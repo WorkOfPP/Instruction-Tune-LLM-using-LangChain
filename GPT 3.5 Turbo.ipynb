{
 "cells": [
  {
   "cell_type": "code",
   "execution_count": 26,
   "id": "50daa4f3-7c62-49fe-b9f3-b46b80948c6c",
   "metadata": {},
   "outputs": [],
   "source": [
    "# !pip install openai\n",
    "# !pip install sentence_transformers\n",
    "# !pip install faiss-cpu"
   ]
  },
  {
   "cell_type": "code",
   "execution_count": 15,
   "id": "71f5b2a0-9c5c-4eae-aba6-b1c6f17dcee4",
   "metadata": {
    "id": "8ydSXWOws1Gd"
   },
   "outputs": [],
   "source": [
    "import pandas as pd\n",
    "import numpy as np\n",
    "import re, json, textwrap, os, openai\n",
    "import requests\n",
    "import time\n",
    "import requests\n",
    "\n",
    "from langchain.llms import OpenAI\n",
    "from langchain.chat_models import ChatOpenAI\n",
    "from langchain.chains import ConversationChain\n",
    "from langchain.memory import ConversationBufferMemory\n",
    "from langchain.prompts.prompt import PromptTemplate\n",
    "from langchain.schema import messages_from_dict, messages_to_dict\n",
    "from langchain.callbacks import get_openai_callback\n",
    "\n",
    "from sentence_transformers import SentenceTransformer\n",
    "import faiss\n",
    "import torch\n",
    "\n",
    "pd.set_option('display.max_colwidth', None)"
   ]
  },
  {
   "cell_type": "markdown",
   "id": "dba95ff7-ca48-4db7-9c60-2ce8a7512fa4",
   "metadata": {},
   "source": [
    "### OpenAI API call authentication"
   ]
  },
  {
   "cell_type": "code",
   "execution_count": 12,
   "id": "dc14651c-5a60-4061-91c0-473f084ae093",
   "metadata": {},
   "outputs": [],
   "source": [
    "def read_secret_key_from_file(filename):\n",
    "    with open(filename, 'r') as file:\n",
    "        api_key = file.read().strip()\n",
    "    return api_key\n",
    "\n",
    "api_key = read_secret_key_from_file('./final/config.txt')"
   ]
  },
  {
   "cell_type": "code",
   "execution_count": 3,
   "id": "0856b439-ef31-4a8e-86c0-7276179081d1",
   "metadata": {},
   "outputs": [],
   "source": [
    "path = '../mashqa_data/'"
   ]
  },
  {
   "cell_type": "markdown",
   "id": "986d4652-53df-4220-afa4-65cbd8de20ce",
   "metadata": {},
   "source": [
    "### Data Preprocessing"
   ]
  },
  {
   "cell_type": "code",
   "execution_count": 4,
   "id": "8b7bac2d-5b9d-49a1-9d15-dbd1ca61e729",
   "metadata": {
    "id": "vIGZL2_exPHd"
   },
   "outputs": [],
   "source": [
    "with open(f'{path}train_webmd_squad_v2_consec.json', 'r') as json_file:\n",
    "    data = json.load(json_file)"
   ]
  },
  {
   "cell_type": "code",
   "execution_count": 5,
   "id": "76a63e21-127c-4812-9301-099ba87ccc0c",
   "metadata": {
    "id": "efuvlSmHxTrC"
   },
   "outputs": [],
   "source": [
    "def extract_question_context_answer_triples(data):\n",
    "    question_context_answer_triples = []\n",
    "\n",
    "    for item in data['data']:\n",
    "        for paragraph in item['paragraphs']:\n",
    "            context = paragraph['context']\n",
    "            for qa in paragraph['qas']:\n",
    "                question = qa['question']\n",
    "                answers = [answer_info['text'] for answer_info in qa['answers']]\n",
    "                for answer in answers:\n",
    "                    question_context_answer_triples.append((question, context, answer))\n",
    "\n",
    "    return question_context_answer_triples"
   ]
  },
  {
   "cell_type": "code",
   "execution_count": 6,
   "id": "4f1d8741-956d-4b15-a7ea-4c3f04b54043",
   "metadata": {
    "id": "_iUKyUsJxe3c"
   },
   "outputs": [],
   "source": [
    "question_context_answer_triples = extract_question_context_answer_triples(data)"
   ]
  },
  {
   "cell_type": "code",
   "execution_count": 7,
   "id": "38234bc4-1f9f-4ff3-866a-c3f429e8aa84",
   "metadata": {
    "id": "7p7B7E-nxfOq"
   },
   "outputs": [],
   "source": [
    "df = pd.DataFrame(question_context_answer_triples, columns=['Question', 'Context', 'Answer'])"
   ]
  },
  {
   "cell_type": "code",
   "execution_count": 8,
   "id": "4a699c84-953e-4def-af42-921bb0246c47",
   "metadata": {
    "colab": {
     "base_uri": "https://localhost:8080/",
     "height": 206
    },
    "collapsed": true,
    "id": "9ZMVDx5Xxh1c",
    "jupyter": {
     "outputs_hidden": true
    },
    "outputId": "37bdcddb-4927-4076-d92c-1aca273ed119",
    "tags": []
   },
   "outputs": [
    {
     "data": {
      "text/html": [
       "<div>\n",
       "<style scoped>\n",
       "    .dataframe tbody tr th:only-of-type {\n",
       "        vertical-align: middle;\n",
       "    }\n",
       "\n",
       "    .dataframe tbody tr th {\n",
       "        vertical-align: top;\n",
       "    }\n",
       "\n",
       "    .dataframe thead th {\n",
       "        text-align: right;\n",
       "    }\n",
       "</style>\n",
       "<table border=\"1\" class=\"dataframe\">\n",
       "  <thead>\n",
       "    <tr style=\"text-align: right;\">\n",
       "      <th></th>\n",
       "      <th>Question</th>\n",
       "      <th>Context</th>\n",
       "      <th>Answer</th>\n",
       "    </tr>\n",
       "  </thead>\n",
       "  <tbody>\n",
       "    <tr>\n",
       "      <th>0</th>\n",
       "      <td>What surgical techniques are used to treat glaucoma?</td>\n",
       "      <td>Treatment of open-angle glaucoma -- the most common form of the disease -- requires lowering the eye's pressure by increasing the drainage of aqueous humor fluid or decreasing the production of that fluid. Medications can accomplish both of these goals. Surgery and laser treatments are directed at improving the eye's aqueous drainage. If not diagnosed early, open-angle glaucoma may significantly damage vision and even cause blindness. That is why it's so important to have your eye doctor test you regularly for glaucoma. Once diagnosed, glaucoma is usually controlled with eye drops that reduce eye pressure. Glaucoma is a life-long condition and needs continual follow-up with your eye doctor. Both drugs and surgery have high rates of success in treating chronic open-angle glaucoma, but you can help yourself by carefully following the doctor's treatment plan. Some patients may find it difficult to follow a regimen involving two or three different eye drops. Be candid and tell the doctor if you cannot follow the medication schedule or if the eye drops cause unwanted side effects. There are frequently alternative treatments. Because of potential drug interactions, be sure to tell your doctor about any other medical problems you have or other medications you take. If glaucoma drops causes the eyes to become chronically red, consult your doctor about switching to preservative-free glaucoma drops that may alleviate the redness from preservatives. Acute angle-closure glaucoma is different from chronic open-angle glaucoma in several important ways: The symptoms usually occur with relative suddenness; the eye is painful and red. If the high pressure in the eye is not relieved quickly, blindness can occur. On the other hand, treatments for acute angle-closure glaucoma -- usually laser treatment -- are permanent and do not require long-term therapy. For this type of glaucoma, making a hole in the iris to allow fluid to drain, called an iridectomy, is the standard treatment to cure it. The unaffected eye also is usually treated to prevent a future attack. However, it's important to get your eyes checked regularly, as some people may develop a case of chronic angle-closure glaucoma later in life, even after laser treatment. If the glaucoma does not respond to medication, or if you cannot tolerate the side effects, your doctor may change medications or recommend one of several surgical techniques: Laser trabeculoplasty creates small laser burns in the area where the fluid drains, improving the outflow rate of aqueous fluid. This relatively brief procedure can often be done in an ophthalmologist's clinic. Trabeculectomy is a surgical procedure that creates a new channel for fluid outflow in cases in which the intraocular pressure is high and the optic nerve damage progresses. Long-term results vary, but generally, the success rate is good. Surgical implants that shunt fluid out of the eye may also be used to decrease pressure in the eye. Remember, all forms of medical or surgical treatment have potential benefits and risks. Before giving your consent, always ask the surgeon to clearly explain any treatment or surgery as well as the proposed benefits, effective alternatives, and potential risks or complications.</td>\n",
       "      <td>If the glaucoma does not respond to medication, or if you cannot tolerate the side effects, your doctor may change medications or recommend one of several surgical techniques: Laser trabeculoplasty creates small laser burns in the area where the fluid drains, improving the outflow rate of aqueous fluid. This relatively brief procedure can often be done in an ophthalmologist's clinic. Trabeculectomy is a surgical procedure that creates a new channel for fluid outflow in cases in which the intraocular pressure is high and the optic nerve damage progresses. Long-term results vary, but generally, the success rate is good. Surgical implants that shunt fluid out of the eye may also be used to decrease pressure in the eye. Remember, all forms of medical or surgical treatment have potential benefits and risks. Before giving your consent, always ask the surgeon to clearly explain any treatment or surgery as well as the proposed benefits, effective alternatives, and potential risks or complications.</td>\n",
       "    </tr>\n",
       "  </tbody>\n",
       "</table>\n",
       "</div>"
      ],
      "text/plain": [
       "                                               Question  \\\n",
       "0  What surgical techniques are used to treat glaucoma?   \n",
       "\n",
       "                                                                                                                                                                                                                                                                                                                                                                                                                                                                                                                                                                                                                                                                                                                                                                                                                                                                                                                                                                                                                                                                                                                                                                                                                                                                                                                                                                                                                                                                                                                                                                                                                                                                                                                                                                                                                                                                                                                                                                                                                                                                                                                                                                                                                                                                                                                                                                                                                                                                                                                                                                                                                                                                                                                                                                                                                                                                                                                                                                                                                                                                                                                                                                                                                                                                                                                                                                                 Context  \\\n",
       "0  Treatment of open-angle glaucoma -- the most common form of the disease -- requires lowering the eye's pressure by increasing the drainage of aqueous humor fluid or decreasing the production of that fluid. Medications can accomplish both of these goals. Surgery and laser treatments are directed at improving the eye's aqueous drainage. If not diagnosed early, open-angle glaucoma may significantly damage vision and even cause blindness. That is why it's so important to have your eye doctor test you regularly for glaucoma. Once diagnosed, glaucoma is usually controlled with eye drops that reduce eye pressure. Glaucoma is a life-long condition and needs continual follow-up with your eye doctor. Both drugs and surgery have high rates of success in treating chronic open-angle glaucoma, but you can help yourself by carefully following the doctor's treatment plan. Some patients may find it difficult to follow a regimen involving two or three different eye drops. Be candid and tell the doctor if you cannot follow the medication schedule or if the eye drops cause unwanted side effects. There are frequently alternative treatments. Because of potential drug interactions, be sure to tell your doctor about any other medical problems you have or other medications you take. If glaucoma drops causes the eyes to become chronically red, consult your doctor about switching to preservative-free glaucoma drops that may alleviate the redness from preservatives. Acute angle-closure glaucoma is different from chronic open-angle glaucoma in several important ways: The symptoms usually occur with relative suddenness; the eye is painful and red. If the high pressure in the eye is not relieved quickly, blindness can occur. On the other hand, treatments for acute angle-closure glaucoma -- usually laser treatment -- are permanent and do not require long-term therapy. For this type of glaucoma, making a hole in the iris to allow fluid to drain, called an iridectomy, is the standard treatment to cure it. The unaffected eye also is usually treated to prevent a future attack. However, it's important to get your eyes checked regularly, as some people may develop a case of chronic angle-closure glaucoma later in life, even after laser treatment. If the glaucoma does not respond to medication, or if you cannot tolerate the side effects, your doctor may change medications or recommend one of several surgical techniques: Laser trabeculoplasty creates small laser burns in the area where the fluid drains, improving the outflow rate of aqueous fluid. This relatively brief procedure can often be done in an ophthalmologist's clinic. Trabeculectomy is a surgical procedure that creates a new channel for fluid outflow in cases in which the intraocular pressure is high and the optic nerve damage progresses. Long-term results vary, but generally, the success rate is good. Surgical implants that shunt fluid out of the eye may also be used to decrease pressure in the eye. Remember, all forms of medical or surgical treatment have potential benefits and risks. Before giving your consent, always ask the surgeon to clearly explain any treatment or surgery as well as the proposed benefits, effective alternatives, and potential risks or complications.   \n",
       "\n",
       "                                                                                                                                                                                                                                                                                                                                                                                                                                                                                                                                                                                                                                                                                                                                                                                                                                                                                                                                                                                                                                         Answer  \n",
       "0  If the glaucoma does not respond to medication, or if you cannot tolerate the side effects, your doctor may change medications or recommend one of several surgical techniques: Laser trabeculoplasty creates small laser burns in the area where the fluid drains, improving the outflow rate of aqueous fluid. This relatively brief procedure can often be done in an ophthalmologist's clinic. Trabeculectomy is a surgical procedure that creates a new channel for fluid outflow in cases in which the intraocular pressure is high and the optic nerve damage progresses. Long-term results vary, but generally, the success rate is good. Surgical implants that shunt fluid out of the eye may also be used to decrease pressure in the eye. Remember, all forms of medical or surgical treatment have potential benefits and risks. Before giving your consent, always ask the surgeon to clearly explain any treatment or surgery as well as the proposed benefits, effective alternatives, and potential risks or complications.  "
      ]
     },
     "execution_count": 8,
     "metadata": {},
     "output_type": "execute_result"
    }
   ],
   "source": [
    "df.head(1)"
   ]
  },
  {
   "cell_type": "code",
   "execution_count": 9,
   "id": "16f302bb-52ef-4098-a026-57b0b51123e7",
   "metadata": {
    "colab": {
     "base_uri": "https://localhost:8080/"
    },
    "id": "4wsbzoC-xisa",
    "outputId": "40aaa71a-99a0-4582-c180-9974018883f8"
   },
   "outputs": [
    {
     "data": {
      "text/plain": [
       "(19989, 3)"
      ]
     },
     "execution_count": 9,
     "metadata": {},
     "output_type": "execute_result"
    }
   ],
   "source": [
    "df.shape"
   ]
  },
  {
   "cell_type": "markdown",
   "id": "3ac2d126-18db-4c00-a431-e905d8fc22b6",
   "metadata": {},
   "source": [
    "### Prompt Engineering"
   ]
  },
  {
   "cell_type": "markdown",
   "id": "ae96a84f-cb17-4378-859b-3f5d1f08a817",
   "metadata": {},
   "source": [
    "#### 1. Zero-shot"
   ]
  },
  {
   "cell_type": "code",
   "execution_count": 17,
   "id": "d414d5b5-1ddd-4e91-b6e3-49c25f74f21b",
   "metadata": {},
   "outputs": [],
   "source": [
    "def get_template():\n",
    "    template = \"\"\"\n",
    "    \n",
    "    You are a chat assistant specialised in answering health questionnaire. \n",
    "\n",
    "    Current conversation:\n",
    "    {history}\n",
    "\n",
    "    Human: {input}\n",
    "    Assistant:\n",
    "    \"\"\"\n",
    "\n",
    "    PROMPT = PromptTemplate(\n",
    "            input_variables=[\"history\", \"input\"],\n",
    "            template=template\n",
    "                )\n",
    "    \n",
    "    return template, PROMPT\n",
    "\n",
    "template, PROMPT = get_template()"
   ]
  },
  {
   "cell_type": "code",
   "execution_count": 18,
   "id": "708cb040-d590-4b03-b6eb-6206a9204e76",
   "metadata": {},
   "outputs": [],
   "source": [
    "llm = ChatOpenAI(temperature=0.1,\n",
    "            openai_api_key=api_key,\n",
    "            model_name = \"gpt-3.5-turbo\",\n",
    "            #model_name = 'gpt-3.5-turbo-0613',\n",
    "            #model_name = 'gpt-3.5-turbo-16k-0613',\n",
    "            verbose=False)\n",
    "\n",
    "Conversation = ConversationChain(\n",
    "        llm=llm, \n",
    "        prompt=PROMPT, \n",
    "        verbose=False,\n",
    "        memory=ConversationBufferMemory())"
   ]
  },
  {
   "cell_type": "code",
   "execution_count": 17,
   "id": "a57b8a9e-1ef9-4d4b-81a4-41894277c0d1",
   "metadata": {},
   "outputs": [],
   "source": [
    "def interact_with_chat(user_input):\n",
    "    # Run the conversation chain with the user input\n",
    "    ai_response = Conversation.run(input=user_input)\n",
    "    return ai_response"
   ]
  },
  {
   "cell_type": "code",
   "execution_count": 14,
   "id": "04c9693f-9e1b-457b-b850-ad81a5816a2f",
   "metadata": {},
   "outputs": [
    {
     "name": "stdout",
     "output_type": "stream",
     "text": [
      "To be smart with antibiotics, it is important to follow these guidelines:\n",
      "\n",
      "1. Take antibiotics only when prescribed: Antibiotics are effective against bacterial infections, but they do not work against viral infections like the common cold or flu. Taking antibiotics unnecessarily can lead to antibiotic resistance, where bacteria become resistant to the drugs.\n",
      "\n",
      "2. Complete the full course: Even if you start feeling better, it is crucial to complete the full course of antibiotics as prescribed by your healthcare provider. This ensures that all the bacteria causing the infection are eliminated, reducing the risk of recurrence or antibiotic resistance.\n",
      "\n",
      "3. Don't share antibiotics: Antibiotics are prescribed based on specific infections and individual factors. Sharing antibiotics with others can lead to inappropriate use and may not effectively treat the infection.\n",
      "\n",
      "4. Avoid using leftover antibiotics: If you have any leftover antibiotics from a previous prescription, do not use them without consulting a healthcare professional. The dosage and type of antibiotic may not be appropriate for your current condition.\n",
      "\n",
      "5. Follow the instructions: Read the instructions provided with the antibiotics carefully and follow them as directed. Take the medication at the prescribed times and with the recommended dosage.\n",
      "\n",
      "6. Report any side effects: If you experience any side effects while taking antibiotics, such as severe allergic reactions or persistent diarrhea, contact your healthcare provider immediately.\n",
      "\n",
      "Remember, antibiotics are a valuable resource in fighting bacterial infections, and using them responsibly helps preserve their effectiveness for future use.\n"
     ]
    }
   ],
   "source": [
    "# Example user input\n",
    "user_input = \"How can you be smart with antibiotics?\"\n",
    "\n",
    "# Get AI response\n",
    "response = interact_with_chat(user_input)\n",
    "print(response)"
   ]
  },
  {
   "cell_type": "markdown",
   "id": "bd5354e4-5049-4f8f-97e4-f104d1bbb192",
   "metadata": {},
   "source": [
    "#### 2. Few-shot"
   ]
  },
  {
   "cell_type": "code",
   "execution_count": 48,
   "id": "95018446-4f9b-46f3-a9df-004bc1d3bda0",
   "metadata": {},
   "outputs": [],
   "source": [
    "def get_few_shot_template():\n",
    "    # Example questions and answers (few-shot examples)\n",
    "    few_shot_examples = \"\"\"\n",
    "    Q: What surgical techniques are used to treat glaucoma?\n",
    "    A: If the glaucoma does not respond to medication, or if you cannot tolerate the side effects, your doctor may change medications or recommend one of several surgical techniques: Laser trabeculoplasty creates small laser burns in the area where the fluid drains, improving the outflow rate of aqueous fluid. This relatively brief procedure can often be done in an ophthalmologist's clinic. Trabeculectomy is a surgical procedure that creates a new channel for fluid outflow in cases in which the intraocular pressure is high and the optic nerve damage progresses. Long-term results vary, but generally, the success rate is good. Surgical implants that shunt fluid out of the eye may also be used to decrease pressure in the eye. Remember, all forms of medical or surgical treatment have potential benefits and risks. Before giving your consent, always ask the surgeon to clearly explain any treatment or surgery as well as the proposed benefits, effective alternatives, and potential risks or complications.\n",
    "    \n",
    "    Q: What are the best ways to treat glaucoma?\n",
    "    A: Both drugs and surgery have high rates of success in treating chronic open-angle glaucoma, but you can help yourself by carefully following the doctor's treatment plan. Some patients may find it difficult to follow a regimen involving two or three different eye drops. Be candid and tell the doctor if you cannot follow the medication schedule or if the eye drops cause unwanted side effects. There are frequently alternative treatments. Because of potential drug interactions, be sure to tell your doctor about any other medical problems you have or other medications you take. If glaucoma drops causes the eyes to become chronically red, consult your doctor about switching to preservative-free glaucoma drops that may alleviate the redness from preservatives.\n",
    "    \n",
    "    Q: Is surgery for glaucoma dangerous?\n",
    "    A: Before giving your consent, always ask the surgeon to clearly explain any treatment or surgery as well as the proposed benefits, effective alternatives, and potential risks or complications.\n",
    "    \n",
    "    \"\"\"\n",
    "\n",
    "    # Template with few-shot examples\n",
    "    template = f\"\"\"\n",
    "    You are a chat assistant specialised in answering health questions. Below are some examples of questions and answers:\n",
    "\n",
    "    {few_shot_examples}\n",
    "\n",
    "    Current conversation:\n",
    "    {{history}}\n",
    "\n",
    "    Human: {{input}}\n",
    "    Assistant:\n",
    "    \"\"\"\n",
    "\n",
    "    PROMPT = PromptTemplate(\n",
    "        input_variables=[\"history\", \"input\"],\n",
    "        template=template\n",
    "    )\n",
    "\n",
    "    return template, PROMPT\n",
    "\n",
    "# Use the new few-shot template\n",
    "template, PROMPT = get_few_shot_template()"
   ]
  },
  {
   "cell_type": "code",
   "execution_count": 51,
   "id": "046cc0b9-f5cf-4c54-af87-1164a33298a6",
   "metadata": {
    "collapsed": true,
    "jupyter": {
     "outputs_hidden": true
    },
    "tags": []
   },
   "outputs": [
    {
     "name": "stdout",
     "output_type": "stream",
     "text": [
      "To be smart with antibiotics, it is important to use them only when necessary and as prescribed by a healthcare professional. Here are some tips:\n",
      "\n",
      "1. Take antibiotics exactly as prescribed: Follow the dosage instructions and complete the full course of treatment, even if you start feeling better. This helps ensure that all bacteria are eliminated and reduces the risk of antibiotic resistance.\n",
      "\n",
      "2. Do not share antibiotics: Antibiotics are prescribed based on specific conditions and individual needs. Sharing antibiotics can lead to inappropriate use and may contribute to antibiotic resistance.\n",
      "\n",
      "3. Do not save antibiotics for later use: Unused antibiotics should not be saved for future use or shared with others. Always consult a healthcare professional for a new prescription if needed.\n",
      "\n",
      "4. Avoid using antibiotics for viral infections: Antibiotics are ineffective against viral infections such as the common cold or flu. They only work against bacterial infections. Using antibiotics unnecessarily can contribute to antibiotic resistance.\n",
      "\n",
      "5. Practice good hygiene: Regularly washing your hands with soap and water, covering your mouth and nose when coughing or sneezing, and properly handling and preparing food can help prevent infections and reduce the need for antibiotics.\n",
      "\n",
      "Remember, always consult a healthcare professional for proper diagnosis and treatment recommendations.\n"
     ]
    }
   ],
   "source": [
    "# Example user input\n",
    "user_input = \"How can you be smart with antibiotics?\"\n",
    "\n",
    "# Get AI response\n",
    "response = interact_with_chat(user_input)\n",
    "print(response)"
   ]
  },
  {
   "cell_type": "markdown",
   "id": "1cf92cfa-324d-4e84-812b-5fa2c04bfaf4",
   "metadata": {},
   "source": [
    "#### 3. Chain of Thought"
   ]
  },
  {
   "cell_type": "code",
   "execution_count": 52,
   "id": "b0ccbcae-64e7-4d7f-9cc4-243e0c8e481f",
   "metadata": {
    "collapsed": true,
    "jupyter": {
     "outputs_hidden": true
    },
    "tags": []
   },
   "outputs": [
    {
     "name": "stdout",
     "output_type": "stream",
     "text": [
      "There are different types of inhalers that serve different purposes and require different techniques. These inhalers help prevent flares and keep symptoms from getting worse. They're called control inhalers because they have medicine that controls inflammation. Use yours as often as your doctor tells you to, usually once or twice a day: Whether or not you're having symptoms Even if you feel like you're doing better If you're supposed to use it two times a day, aim for 12 hours apart. When you begin using this kind of inhaler, it may be 2 to 4 weeks before you notice the drugs start to work. Rescue or relief inhalers quickly bring back normal breathing when you are: Short of breath Wheezing Feeling tight in your chest Coughing You should keep a rescue inhaler with you all the time. Use it: When you have a flare of symptoms Before you're going to be around your asthma triggers When you run into unexpected triggers A rescue inhaler is for short-term symptom relief, not to control your asthma in the long term. If you're using yours 2 or more days a week, or more than 2 nights a month, talk to your doctor about a daily control inhaler. When you have asthma triggered by exercise, short-acting inhalers can make activities that need extra lung power more doable. This includes things such as sports, yard work, and even singing. To help prevent symptoms, use your rescue inhaler 15 to 30 minutes before you start. Keep it on hand in case you have symptoms while you're working. If lively movement often brings on a flare, don't give up on exercise. Regular exercise can help you control your asthma. It can strengthen lung muscles, make it easier to manage your weight, and boost your immune system. Instead: Try different kinds of activities that are less challenging. Avoid weather conditions that might trigger symptoms. Inhalers are different, so check your instructions. Prime the inhaler first. You need to do this when you use an inhaler for the first time, or if you haven't used it for 2 weeks or more. Shake it for 5 seconds, turn the inhaler away from you, and press down to spray it. Wait a few seconds and do it again. Then do this two more times for a total of four. Take off the mouthpiece cover, then: Shake it for 5 seconds. Hold the inhaler up with your index finger on top and your thumb underneath to support it. Use the other hand to hold the spacer if you need to. Breathe out. Put the mouthpiece between your teeth, and close your lips tightly around it. ( Make sure your tongue doesn't block the opening.) You can also hold the mouthpiece about the width of two fingers away from your mouth. Press the top down, and breathe in until your lungs fill completely -- about 4-6 seconds. Hold the medicine in your lungs as long as you can (5-10 seconds is good), then breathe out. If you don't get enough air in the first breath, wait 15-30 seconds and try again. Shake the canister again before the next puff. Recap the mouthpiece. If your medicine has a steroid in it, rinse your mouth and gargle with water after you use the inhaler. Spit out the water. Put the inhaler into the spacer. Shake it for 5 seconds. Hold the inhaler up with your index finger on top and your thumb underneath to support it. Use the other hand to hold the spacer if you need to. Breathe out. Put the mouthpiece between your teeth, and close your lips tightly around the spacer. ( Make sure your tongue doesn't block the opening.) Press the top down and breathe in until your lungs fill completely -- about 3-5 seconds. Hold the medicine in your lungs as long as you can (5-10 seconds is good), then breathe out. If you don't get enough air in the first breath, wait 15-30 seconds and try again. Shake the inhaler again before the second puff. Don't fill the chamber with two puffs of medicine at once. Recap the mouthpiece. If your medicine has a steroid in it, rinse your mouth and gargle with water after you use the inhaler. Spit out the water. Remove the cap. For a single-use device, load a capsule. Breathe out slowly (not into the mouthpiece). Put the mouthpiece between your front teeth and close your lips around it. Breathe in through your mouth deeply for 2-3 seconds. Remove the inhaler. Hold your breath for as long as you can. ( Between 4 and 10 seconds is good.) Breathe out slowly. You have to clean them about once a week so the medication doesn't build up and block the mouthpiece. MDI: Remove the canister and cap from the mouthpiece. Don't wash the canister or put it in water. Run warm tap water through the top and bottom of the mouthpiece for 30-60 seconds. Use a soft cloth to remove any medication buildup. Shake off the water. Let the mouthpiece dry completely. Overnight is best. If you need to use the inhaler before the mouthpiece dries, shake off the extra water, replace the canister, point it away from your face, and test-spray it twice before you use it. DPI: Don't wash it with soap and water. Clean the mouthpiece with a dry cloth. Check the instructions for more information.\n"
     ]
    }
   ],
   "source": [
    "def get_context_for_specific_question(df, question):\n",
    "    # Filter the DataFrame for the specific question\n",
    "    filtered_df = df[df['Question'] == question]\n",
    "\n",
    "    # Check if there are any matching rows\n",
    "    if not filtered_df.empty:\n",
    "        # Return the context of the first matching row\n",
    "        return filtered_df.iloc[0]['Context']\n",
    "    else:\n",
    "        return \"No context found for the specified question.\"\n",
    "\n",
    "# Call the function with the specific question\n",
    "specific_question = \"Is exercise OK if you have asthma?\"\n",
    "context_1 = get_context_for_specific_question(df, specific_question)\n",
    "\n",
    "print(context_1)"
   ]
  },
  {
   "cell_type": "code",
   "execution_count": 53,
   "id": "797eb5d9-aa9d-44fd-98ac-e34c64cfb2ed",
   "metadata": {
    "collapsed": true,
    "jupyter": {
     "outputs_hidden": true
    },
    "tags": []
   },
   "outputs": [
    {
     "name": "stdout",
     "output_type": "stream",
     "text": [
      "Does it take you forever to make a doctor's appointment, clean out your garage, or do your taxes? Putting off something that needs to be done is called procrastination. We all do it sometimes. But if you constantly struggle to finish tasks, there may be a bigger problem at play. Once you figure out your reasons, you can work on making the most of your time. When you're facing something you don't want to do, it can make you feel tense. Putting off that dreaded chore is a way to get some short-term relief. The downside is that you'll still have to tackle your task in the future, which may make you feel guilty or angry -- and cause your stress to rise more. If the tension's bad enough to keep you from getting things done, you might notice it affects you in other ways, too, like: Trouble sleeping Racing thoughts Lack of energy or trouble focusing Headaches or muscle tension Keep your mood in check with regular exercise, limit alcohol and caffeine (which can make stress worse), and get enough sleep. Talk to a friend or counselor about what's on your mind, too. Attention-deficit hyperactivity disorder affects behavior. People who have it often have trouble making decisions or getting tasks done before a deadline. Some get too distracted with other activities around them. Others find it hard to plan ahead, or they get frustrated easily and give up. Other symptoms of ADHD include: Daydreaming Forgetting or losing things Making careless mistakes or taking unsafe risks Squirming or fidgeting Medications can often help control many symptoms of the disorder. Cognitive-behavioral therapy, which helps identify and change negative thought patterns, also can help many people with the condition better manage their time. The amount of willpower you have changes every day and depends on many things, including whether you've had enough sleep. If you've had less than 6 hours, it's harder for your brain to tune out distractions and focus long enough to finish what you need to do. Other signs that you need more shut-eye include: Falling asleep while watching TV or reading a book Feeling irritable Sleeping longer on weekends Trouble waking up in the mornings To get a good night's rest, keep the same bedtime and wake time. Don't smoke, and steer clear of alcohol, caffeine, and heavy meals for a few hours before bed, since they can disrupt your Zzz's. This condition means your brain overreacts to negative emotions. You expect the worst, even when there's nothing to fear. Some people with anxiety spend so much energy worrying about family, health, money, or work that they find it hard to carry out everyday tasks. You might also have: Muscle tension Fatigue Trouble sleeping Irritability To stop anxious feelings, take 10 slow, deep breaths, or replace a negative thought with a positive one. It's also important to get enough rest, exercise regularly, and make sure you don't skip meals. Keep a journal to help you learn what triggers your anxiety. Some people need medications or talk therapy to get the condition under control. Depression alters your brain's chemistry. You may have very little energy, even for hobbies and activities you love. It's also common to feel helpless and self-critical, which can cause someone with the condition to âshut down.â Other symptoms of depression include: A feeling of sadness that doesn't go away Low appetite and weight loss, or overeating and weight gain Restlessness or feeling irritable Thoughts of suicide or death Call 911 if you're thinking about hurting yourself or others. Even if not, talk to a counselor or therapist if you have any of these other symptoms. Your doctor is a good resource as well. Some people also find relief from their depression with antidepressant medicine. If you have this disorder, your brain can't signal when you're doing something correctly. Instead, you have a nagging sense that your actions aren't âjust right.â Rather than finish a task, people with OCD get stuck looking for a âperfectâ solution. Other symptoms include: A lot of unwanted thoughts or images Feeling helpless to stop the thoughts Rituals like hand washing Spending at least 1 hour a day on these thoughts and rituals Anti-anxiety medication or antidepressants can often improve OCD symptoms. Many people also use cognitive-behavioral therapy or exposure therapy, in which they learn to slowly face their fears. Be honest with yourself about what might be holding you back from getting a task done. Then think of realistic ways you can get past it. If you think you're stuck because of a more serious health problem, talk to your doctor to make sure you get the right diagnosis and treatment. If good old-fashioned procrastination is your issue, break big projects into smaller ones you can do more easily. You can set deadlines to stay on track. Some people also find it helpful to reward themselves when they make progress. When you catch yourself wasting time, forgive yourself rather than feeling ashamed or angry. You may be less likely to procrastinate again if you go easy on yourself.\n"
     ]
    }
   ],
   "source": [
    "# Function to find the question and context for questions containing 'asthma' but not 'BDD'\n",
    "def get_question_and_context_for_asthma_excluding_bdd(df):\n",
    "    # Filter the DataFrame for rows where the 'Question' contains 'asthma' and does not contain 'BDD'\n",
    "    asthma_rows = df[\n",
    "        df['Question'].str.contains(r'\\bOCD\\b', case=False, regex=True) &\n",
    "        ~df['Question'].str.contains(r'\\bBDD\\b', case=False, regex=True)\n",
    "    ]\n",
    "    \n",
    "    # If any rows are found, return the 'Question' and 'Context' of the first such row\n",
    "    if not asthma_rows.empty:\n",
    "        question = asthma_rows.iloc[0]['Question']\n",
    "        context = asthma_rows.iloc[0]['Context']\n",
    "        return question, context\n",
    "    else:\n",
    "        return \"No question with the keyword 'asthma' found, excluding 'BDD'.\", None\n",
    "\n",
    "# Call the function and print the results\n",
    "question_with_asthma, context_2 = get_question_and_context_for_asthma_excluding_bdd(df)\n",
    "# print(\"Question:\", question_with_asthma)\n",
    "# print(\"Context:\", context_2)\n",
    "\n",
    "print(context_2)"
   ]
  },
  {
   "cell_type": "code",
   "execution_count": 54,
   "id": "b043910f-60a5-432d-adc3-56b27303d760",
   "metadata": {
    "collapsed": true,
    "jupyter": {
     "outputs_hidden": true
    },
    "tags": []
   },
   "outputs": [
    {
     "name": "stdout",
     "output_type": "stream",
     "text": [
      "Question: What will happen if blood clot moves to your lungs?\n",
      "Context: After hurting your leg, you're probably dealing with some discomfort and inconvenience. But that's not all you have to be concerned about. This type of injury raises your chances for getting a blood clot. Any time a blood vessel gets damaged, the nearby blood can thicken and organize into a sticky clump, or clot. Some clots only affect veins near your skin's surface. This condition, called superficial thrombophlebitis, typically doesn't lead to serious problems. When a blood clot forms farther inside your leg, it's known as deep vein thrombosis ( DVT). These clots can be dangerous if they break loose and travel to your lungs. Doctors call this a pulmonary embolism ( PE). Trauma could result from a car accident, a sports injury, or even a fall. Common mishaps that may lead to a clot include: Broken bones Bad bumps Severe bruises Severe muscle injuries A 2008 study revealed even minor leg injuries -- ones that don't need a cast or bed rest -- can raise your odds of having DVT. Researchers found as many as 1 in 13 blood clots may be caused by small problems, such as muscle tears or ankle sprains. Many people don't notice any symptoms. Spotting DVT could be tricky after an injury because a bruise or bump can look like a clot. DVT symptoms can be mistaken for a muscle tear, a charley horse, a twisted ankle, or shin splints. Your leg could: Swell Hurt or feel tender, maybe like a cramp Feel warm Look red or discolored Have veins that stick out If a clot moves to your lungs, you may: Cough up blood Have pain in your chest Feel your heart beat fast Have trouble breathing Hurt when you breathe Call your doctor if you notice anything unusual or worrisome after a leg injury. Some people are more likely than others to develop a blood clot. Your odds are higher when you: Have a close family member with DVT Are older Have a blood clotting disorder or a vein disease Have cancer Are pregnant Use birth control pills or hormone replacement therapy Being overweight and smoking will raise your chances. Also, being a couch potato can lead to a clot. While blood clots are less common in younger, healthy people, they're still possible. Fit athletes are likely to be injured, get dehydrated, and travel long distances for events. These things increase the odds of blood clots, too. You might still be hurting from your injury, but activity is key for keeping clots at bay. Don't sit or stand for more than an hour at a time if you can help it. Wear loose-fitting clothing. Your doctor might tell you to wear special compression stockings if you have a higher chance for developing a clot. Drink plenty of water, and stay away from alcohol, especially if you're traveling long distances. Try not to hurt your legs again during your recovery. Losing extra weight and quitting smoking can lower your chance of getting a blood clot.\n"
     ]
    }
   ],
   "source": [
    "# Function to find the question and context for questions containing 'asthma'\n",
    "def get_question_and_context_for_asthma(df):\n",
    "    # Filter the DataFrame for rows where the 'Question' column contains the word 'asthma'\n",
    "    asthma_rows = df[df['Question'].str.contains(r'\\bblood clot\\b', case=False, regex=True)]\n",
    "    \n",
    "    # If any rows are found, return the 'Question' and 'Context' of the first such row\n",
    "    if not asthma_rows.empty:\n",
    "        question = asthma_rows.iloc[0]['Question']\n",
    "        context = asthma_rows.iloc[0]['Context']\n",
    "        return question, context\n",
    "    else:\n",
    "        return \"No question with the keyword 'asthma' found.\", None\n",
    "\n",
    "# Call the function and print the results\n",
    "question_with_asthma, context_3 = get_question_and_context_for_asthma(df)\n",
    "print(\"Question:\", question_with_asthma)\n",
    "print(\"Context:\", context_3)"
   ]
  },
  {
   "cell_type": "code",
   "execution_count": 55,
   "id": "ceed18b4-488e-4b7c-a6f3-a4b20b64f8da",
   "metadata": {
    "collapsed": true,
    "jupyter": {
     "outputs_hidden": true
    },
    "tags": []
   },
   "outputs": [
    {
     "name": "stdout",
     "output_type": "stream",
     "text": [
      "Question: How can you prevent back pain?\n",
      "Context: There's a lot riding on your spinal column. It's your body's main structural support. It needs to keep you stable enough to stand upright but flexible enough for movement. So it's no surprise that many people have back problems from time to time. The hurt can stem from sore muscles, ligaments, and tendons, or from herniated disks, fractures, and other problems in your upper, middle, and lower back. Sometimes you feel the effects right away. But in many cases, back problems develop over time. We often bring on our back problems through bad habits, such as: Poor posture, like sitting incorrectly at a desk or behind the steering wheel Repeating the same motion or overdoing it Pushing, pulling, and lifting things carelessly The spine is actually a stack of 24 bones called vertebrae. A healthy spine is S-shaped when viewed from the side. It curves back at your shoulders and inward at your neck and small of your back. It houses and protects your spinal cord, the network of nerves that transmit feeling and control movement throughout your entire body. One of the more common types of back pain comes from straining the bands of muscles surrounding the spine. It happens most often in the curve of the low back and the base of the neck. These areas support more weight than your upper and mid back, which are less prone to trouble. Injuries from contact sports, accidents, and falls can cause problems ranging from minor muscle strains, to herniated disks, to fractures that damage to the spinal column or cord. Stabbing low back pain could be from muscle spasms, when your muscles seize up and don't relax, like a cramp. Osteoarthritis can affect your vertebrae, when the cartilage between them wears down. Bone spurs or a herniated disk can push on nerves. Pregnancy often brings on back pain, too. Hormonal changes and weight gain put new kinds of stresses on a pregnant woman's spine and legs. Sometimes your back might be sore for no clear reason. That's called nonspecific backache. It could come from weak muscles that can't handle everyday walking, bending, and stretching. Back pain -- whether a dull ache or shooting -- is just one sign that something's going on with your back. You may also have feelings in your legs or arms: Radiating pain Numbness Tingling Weakness Uncontrolled peeing or pooping could mean a serious problem like spinal cord compression. Call your doctor right away. You should see a doctor: After you get hurt, like in a fall or accident When the pain gets in the way of your daily activities If it lasts longer than 6 weeks, or spreads During your exam, your doctor will test your range of motion -- unless you can't move -- and check how well your nerves are working. That may be enough to decide what to do next. You might need imaging tests, like X-rays, an MRI, or a CT scan. But they're not always useful, and there's not always a direct link between the results of these tests and how much it hurts. Your specific treatment will depend on what's causing your pain and where in your back it is. Despite what you may think or have been told before, staying in bed isn't usually the answer; gentle exercise is. It will help work out the kinks, build support for your spine, and improve your flexibility. A physical therapist can work with you to design a set of exercises, give you relief from the pain, and get you moving again. Over-the-counter pain relievers, ice, and heat will work to take the edge off most back pain. Your doctor can prescribe stronger medicines, but some can make you drowsy or dependent on them if you're not careful. Complementary therapies, such as chiropractic spinal manipulation, acupuncture, and massage, can help ease pain, too. If a bone is damaged, or you have a herniated disk or pinched nerve, you may need surgery. But for ongoing back pain, doctors will try other treatments first. Counseling could help you learn to live with chronic pain better as well as deal with symptoms of depression because of it. Exercise! Strengthening the muscles around your spine and in your core will help keep you stable and balanced. Walking is great for your low back, and it's simple to do. Practice good posture. As a rule of thumb, aim to keep your ears, shoulders, and hips aligned when you sit, stand, and walk. Lift heavy things correctly, using your hips and knees for power while keeping your back straight. Try sleeping on your side, with a medium-firm mattress. Don't smoke. It restricts blood flow, so your muscles and tissues don't get a good supply of nutrients and oxygen. That can lead to weakness and aches. Repeated coughing could strain your back.\n"
     ]
    }
   ],
   "source": [
    "# Function to find the question and context for questions containing 'asthma'\n",
    "def get_question_and_context_for_asthma(df):\n",
    "    # Filter the DataFrame for rows where the 'Question' column contains the word 'asthma'\n",
    "    asthma_rows = df[df['Question'].str.contains(r'\\bprevent back pain\\b', case=False, regex=True)]\n",
    "    \n",
    "    # If any rows are found, return the 'Question' and 'Context' of the first such row\n",
    "    if not asthma_rows.empty:\n",
    "        question = asthma_rows.iloc[0]['Question']\n",
    "        context = asthma_rows.iloc[0]['Context']\n",
    "        return question, context\n",
    "    else:\n",
    "        return \"No question with the keyword 'asthma' found.\", None\n",
    "\n",
    "# Call the function and print the results\n",
    "question_with_asthma, context_4 = get_question_and_context_for_asthma(df)\n",
    "print(\"Question:\", question_with_asthma)\n",
    "print(\"Context:\", context_4)"
   ]
  },
  {
   "cell_type": "code",
   "execution_count": 56,
   "id": "102e1aad-094c-46d3-8cfe-579305164603",
   "metadata": {
    "collapsed": true,
    "jupyter": {
     "outputs_hidden": true
    },
    "tags": []
   },
   "outputs": [
    {
     "name": "stdout",
     "output_type": "stream",
     "text": [
      "Looking for an effective flu treatment and wondering if antibiotics will work? Antibiotics are medications that fight infections caused by bacteria, but the flu is cause by a virus. Taking antibiotics when you have a virus may do more harm than good. Taking antibiotics when they are not needed increases your risk of getting an infection later that may resist antibiotic treatment. Antibiotics only cure certain infections due to bacteria -- and if taken carelessly, you may get more serious health problems than you bargained for. With any illness, it is critical to address the underlying cause, whether it's bacterial or viral. Antibiotics will not kill cold or flu viruses. Not at all. Antibiotics can save people's lives, and if you need them, you should get them as quickly as you can. Since only a doctor can prescribe antibiotics, this means that you should talk to your doctor if you think you might need them (as opposed to taking your friend's leftover antibiotics from last winter's illness, for example). However, it is the grave over-reliance and inappropriate use of antibiotics that have contributed to the global antibiotic resistance crisis that we face. A study by the CDC showed that many adults believe that if they are sick enough to see a doctor for a cold, they should get an antibiotic treatment. The study also showed that patients are not aware of the consequences of taking the drugs if they are not needed. And when antibiotics are misused, bacteria can become resistant. Antivirals are medications that reduce the ability of flu viruses to multiply. The CDC considers antiviral drugs as a \"second line of defense against the flu.\" The first line of defense is getting an annual flu vaccine. When taken at the onset of flu, these drugs help decrease the severity and duration of flu symptoms. They can also be used in cases to help prevent the flu, but they are not a replacement for getting the flu vaccine. The CDC recommends baloxavir marboxil ( Xofluza), oseltamivir ( Tamiflu), peramivir ( Rapivab), and zanamivir ( Relenza) for flu. They are most effective when given within 48 hours after symptoms start to appear. These flu drugs can decrease the duration of the flu by one to two days if used within this early time period. Oseltamivir ( Tamiflu), and zanamivir ( Relenza) are usually given for a period of five days to treat the flu. For flu prevention, they are typically used for at least 7 days. In some cases, antivirals may be given for longer periods of time. For prevention of flu, antiviral drugs may be given for at least 7 days. In some cases, antivirals may be given for longer periods of time. Oseltamivir is approved for treatment in those over 2 weeks of age and for prevention in people ages 3 months and older. Peramivir, given in one intravenous dose, is approved for people ages 2 and older. Zanamivir, an inhaled medication, is approved for treatment of people ages 7 and older and for prevention in people ages 5 and older. Side effects of antiviral drugs may include nervousness, poor concentration, nausea, vomiting, and diarrhea. Zanamivir is not recommended for people with a history of breathing problems, such as asthma, because it may worsen breathing. Discuss side effects with your doctor. According to the CDC, antibiotic resistance happens when bacteria changes in some way to reduce or eliminate the effectiveness of the antibiotic. When bacteria are exposed to antibiotics repeatedly, such as when you take the medication needlessly or too frequently, the germs in your body start to evolve. These changes can make the germs stronger than before so they completely resist the antibiotic. Yourillness may linger with no signs of improvement. Or your illness may suddenly take a turn for the worse, requiring you to seek emergency medical care. You may have to be admitted to the hospital and get several different antibiotics intravenously. Sadly, those around you may get the resistant bacteria and come down with a similar illness that is very difficult to treat. Unfortunately, demand for a \"quick fix\" for what ails us has fueled this resistance crisis. The CDC estimates that about one in three antibiotic prescriptions written in the United States is unnecessary. There is a way to protect yourself and others from resistant bacteria, and that is to respect antibiotics and take them only when necessary for a bacterial infection. Here are some useful tips: When you see a doctor, don't demand antibiotics. Understand that antibiotics are used for bacterial infections, not symptoms of a cold or flu virus. If a doctor prescribes antibiotics, use them as prescribed. Take all of the antibiotics as directed and don't save some for future use. Don't share antibiotics with others. Preventing the flu in the first place may help you avoid getting sick altogether. Get a flu shot each year. Also, make sure you wash your hands frequently and thoroughly to prevent spreading germs.\n"
     ]
    }
   ],
   "source": [
    "# Call the function with the specific question\n",
    "specific_question = \"Do most people know that antibiotics are not effective for colds or flu?\"\n",
    "context_5 = get_context_for_specific_question(df, specific_question)\n",
    "\n",
    "print(context_5)"
   ]
  },
  {
   "cell_type": "code",
   "execution_count": 94,
   "id": "8f72ec55-b5bd-444a-8a15-a6041f431117",
   "metadata": {},
   "outputs": [],
   "source": [
    "def get_chain_of_thought_template():\n",
    "    # Example questions and answers (few-shot examples)\n",
    "    context = context_5\n",
    "\n",
    "    # Template with few-shot examples\n",
    "    template = f\"\"\"\n",
    "    You are a chat assistant specialized in answering health questions by thinking and aswering briefly. \n",
    "    Here is the context for the question:\n",
    "    {context}\n",
    "\n",
    "    Current conversation:\n",
    "    {{history}}\n",
    "\n",
    "    Using this information, think through the following question step by step and provide a brief answer:\n",
    "    Question: {{input}}\n",
    "    Reasoning:\n",
    "    \"\"\"\n",
    "\n",
    "    PROMPT = PromptTemplate(\n",
    "        input_variables=[\"history\", \"input\"],\n",
    "        template=template\n",
    "    )\n",
    "\n",
    "    return template, PROMPT\n",
    "\n",
    "# Use the new few-shot template\n",
    "template, PROMPT = get_chain_of_thought_template()"
   ]
  },
  {
   "cell_type": "code",
   "execution_count": 97,
   "id": "9fd2a03f-03cb-4ccb-a527-8f6f6182340d",
   "metadata": {},
   "outputs": [
    {
     "name": "stdout",
     "output_type": "stream",
     "text": [
      "To be smart with antibiotics, it is important to understand that antibiotics only work against bacterial infections, not viral infections like the flu. Taking antibiotics when they are not needed can lead to antibiotic resistance, making it harder to treat infections in the future. It is crucial to only take antibiotics as prescribed by a doctor, complete the full course of treatment, and not share antibiotics with others. Additionally, preventing the flu through vaccination and practicing good hygiene, such as frequent handwashing, can help reduce the need for antibiotics.\n"
     ]
    }
   ],
   "source": [
    "# Example user input\n",
    "user_input = \"How can you be smart with antibiotics?\"\n",
    "\n",
    "# Get AI response\n",
    "response = interact_with_chat(user_input)\n",
    "print(response)"
   ]
  },
  {
   "cell_type": "markdown",
   "id": "d2b40cf6-f41b-4787-8873-43c9027c5d6e",
   "metadata": {},
   "source": [
    "#### 4. RAG (Retrieval Augmented Generation)"
   ]
  },
  {
   "cell_type": "code",
   "execution_count": 100,
   "id": "e79cf235-4df9-4e33-bfcc-674a0ba5e31a",
   "metadata": {},
   "outputs": [
    {
     "data": {
      "text/plain": [
       "device(type='cuda')"
      ]
     },
     "execution_count": 100,
     "metadata": {},
     "output_type": "execute_result"
    }
   ],
   "source": [
    "device = torch.device(\"cuda\" if torch.cuda.is_available() else \"cpu\")\n",
    "device"
   ]
  },
  {
   "cell_type": "code",
   "execution_count": 114,
   "id": "353b295c-3d8f-49c7-abd6-63eb81b9d2ac",
   "metadata": {},
   "outputs": [],
   "source": [
    "# Assuming data is loaded into a DataFrame with 'Context' column\n",
    "context_texts = df['Context'].tolist()\n",
    "\n",
    "# Embedding the context texts\n",
    "model = SentenceTransformer('sentence-transformers/all-MiniLM-l6-v2')\n",
    "embeddings = model.encode(context_texts, convert_to_numpy=True)\n",
    "# embeddings = embeddings.cuda().detach().numpy()\n",
    "\n",
    "# Building FAISS index\n",
    "index = faiss.IndexFlatL2(embeddings.shape[1])\n",
    "index.add(embeddings)\n",
    "\n",
    "def retrieve_context(question, k=3):\n",
    "    question_embedding = model.encode([question])\n",
    "    _, indices = index.search(question_embedding, k)\n",
    "    return ' '.join([context_texts[i] for i in indices[0]])\n",
    "\n",
    "# def ask_gpt_turbo(question, context, api_key):\n",
    "#     openai.api_key = api_key\n",
    "#     prompt = f\"Context: {context}\\nQuestion: {question}\\nAnswer:\"\n",
    "#     response = openai.Completion.create(model=\"gpt-3.5-turbo\", prompt=prompt, temperature=0.7)\n",
    "#     return response.choices[0].text.strip()"
   ]
  },
  {
   "cell_type": "code",
   "execution_count": 115,
   "id": "128fc9a3-a490-4569-9025-7e64e4cf92bd",
   "metadata": {},
   "outputs": [
    {
     "name": "stdout",
     "output_type": "stream",
     "text": [
      "To prevent back pain when lifting objects: \n",
      "1. Stand close to the object you are lifting and keep your feet shoulder-width apart. \n",
      "2. Bend at your knees and hips, not your waist, to squat down and grip the object firmly.\n",
      "3. Keep your back straight and tighten your core muscles.\n",
      "4. Lift using the strength of your legs, not your back, and slowly rise to a standing position.\n",
      "5. Hold the object close to your body and avoid twisting or bending while lifting.\n",
      "6. Take small steps and pivot with your feet when changing direction.\n",
      "7. If the object is too heavy, use a dolly, ask for help, or break it into smaller, manageable loads.\n"
     ]
    }
   ],
   "source": [
    "def ask_gpt_turbo(question, context, api_key):\n",
    "    openai.api_key = api_key\n",
    "    prompt = f\"Context: {context}\\nQuestion: {question}\\nAnswer:\"\n",
    "    \n",
    "    response = openai.ChatCompletion.create(\n",
    "        model=\"gpt-3.5-turbo\", \n",
    "        messages=[\n",
    "            {\"role\": \"system\", \"content\": \"You are a chat assistant specialized in answering health questions. Give a brief to the point answer\"},\n",
    "            {\"role\": \"user\", \"content\": prompt}\n",
    "        ]\n",
    "    )\n",
    "    return response.choices[0].message['content']\n",
    "\n",
    "# Example usage\n",
    "question = \"How should you lift objects to prevent back pain?\"\n",
    "retrieved_context = retrieve_context(question)\n",
    "\n",
    "# Query GPT-3.5 Turbo with the retrieved context\n",
    "answer = ask_gpt_turbo(question, retrieved_context, api_key)\n",
    "print(answer)"
   ]
  },
  {
   "cell_type": "markdown",
   "id": "f66b76d2-9b2d-45ea-bd2e-797a97850bfb",
   "metadata": {},
   "source": [
    "### Instruction Tuning"
   ]
  },
  {
   "cell_type": "code",
   "execution_count": 109,
   "id": "b559fc35-d1e6-45f9-ba5c-7a90fc9fcf2b",
   "metadata": {},
   "outputs": [],
   "source": [
    "# Randomly select 10% of the DataFrame\n",
    "df_sample = df.sample(frac=0.1, random_state=42)  # random_state for reproducibility\n",
    "\n",
    "# Convert your DataFrame to the required format\n",
    "def convert_to_openai_format(df):\n",
    "    openai_format = []\n",
    "    for _, row in df.iterrows():\n",
    "        entry = {\n",
    "            \"messages\": [\n",
    "                {\"role\": \"system\", \"content\": \"You are a chat assistant specialized in answering health questions.\"},\n",
    "                {\"role\": \"user\", \"content\": row['Question']},\n",
    "                {\"role\": \"assistant\", \"content\": row['Answer']}\n",
    "            ]\n",
    "        }\n",
    "        openai_format.append(json.dumps(entry))\n",
    "\n",
    "    return openai_format\n",
    "\n",
    "# Write to a JSON Lines file\n",
    "with open('fine_tune_data.jsonl', 'w') as file:\n",
    "    for line in convert_to_openai_format(df_sample):\n",
    "        file.write(f\"{line}\\n\")"
   ]
  },
  {
   "cell_type": "code",
   "execution_count": null,
   "id": "0e10b10a-95f3-476f-8536-e58577327667",
   "metadata": {},
   "outputs": [],
   "source": [
    "def upload_file(api_key, file_path):\n",
    "    headers = {\"Authorization\": f\"Bearer {api_key}\"}\n",
    "    response = requests.post(\n",
    "        \"https://api.openai.com/v1/files\",\n",
    "        headers=headers,\n",
    "        files={\"file\": open(file_path, \"rb\"), \"purpose\": (None, \"fine-tune\")}\n",
    "    )\n",
    "    return response.json()\n",
    "\n",
    "upload_response = upload_file(api_key, 'fine_tune_data.jsonl')\n",
    "print(upload_response)"
   ]
  },
  {
   "cell_type": "code",
   "execution_count": null,
   "id": "68a2cf00-9dd0-4c0b-b813-1a9801c4fcaf",
   "metadata": {},
   "outputs": [],
   "source": [
    "def create_fine_tuning_job(api_key, file_id):\n",
    "    headers = {\"Authorization\": f\"Bearer {api_key}\", \"Content-Type\": \"application/json\"}\n",
    "    data = {\n",
    "        \"training_file\": file_id,\n",
    "        \"model\": \"gpt-3.5-turbo\"\n",
    "    }\n",
    "    response = requests.post(\n",
    "        \"https://api.openai.com/v1/fine_tuning/jobs\",\n",
    "        headers=headers,\n",
    "        json=data\n",
    "    )\n",
    "    return response.json()\n",
    "\n",
    "fine_tune_response = create_fine_tuning_job(api_key, upload_response['id'])\n",
    "print(fine_tune_response)"
   ]
  },
  {
   "cell_type": "code",
   "execution_count": null,
   "id": "552454da-7721-43b2-b5ad-f4264df5536b",
   "metadata": {},
   "outputs": [],
   "source": [
    "# Example usage of the fine-tuned model\n",
    "ft_model_id = 'ft:gpt-3.5-turbo-0613:personal::xxxx'  # Replace with your fine-tuned model ID\n",
    "\n",
    "response = ask_gpt_turbo(\"How is obsessive-compulsive disorder diagnosed?\", '', api_key, ft_model_id=ft_model_id)\n",
    "print(response)"
   ]
  },
  {
   "cell_type": "code",
   "execution_count": null,
   "id": "333d3e8a-19ad-46f0-8d2f-ff3b5b646b25",
   "metadata": {},
   "outputs": [],
   "source": [
    "def check_fine_tuning_status(api_key, job_id):\n",
    "    headers = {\"Authorization\": f\"Bearer {api_key}\"}\n",
    "    response = requests.get(\n",
    "        f\"https://api.openai.com/v1/fine_tuning/jobs/{job_id}\",\n",
    "        headers=headers\n",
    "    )\n",
    "    return response.json()\n",
    "\n",
    "# Use this function to check the status\n",
    "job_id = 'ftjob-xxxx'  # Replace with your actual job ID\n",
    "\n",
    "while True:\n",
    "    status_response = check_fine_tuning_status(api_key, job_id)\n",
    "    status = status_response.get(\"status\")\n",
    "    print(f\"Current status: {status}\")\n",
    "    if status == \"succeeded\":\n",
    "        ft_model_id = status_response.get(\"fine_tuned_model\")\n",
    "        print(f\"Fine-tuned model ID: {ft_model_id}\")\n",
    "        break\n",
    "    elif status in [\"failed\", \"cancelled\"]:\n",
    "        print(\"Fine-tuning job failed or was cancelled.\")\n",
    "        break\n",
    "    else:\n",
    "        time.sleep(60)  # Wait for 60 seconds before checking again"
   ]
  }
 ],
 "metadata": {
  "kernelspec": {
   "display_name": "Python 3 (ipykernel)",
   "language": "python",
   "name": "python3"
  },
  "language_info": {
   "codemirror_mode": {
    "name": "ipython",
    "version": 3
   },
   "file_extension": ".py",
   "mimetype": "text/x-python",
   "name": "python",
   "nbconvert_exporter": "python",
   "pygments_lexer": "ipython3",
   "version": "3.10.9"
  }
 },
 "nbformat": 4,
 "nbformat_minor": 5
}
